{
  "nbformat": 4,
  "nbformat_minor": 0,
  "metadata": {
    "colab": {
      "name": "KMEANS",
      "provenance": [],
      "authorship_tag": "ABX9TyP3fb8957RnmJoN8sgBXGKw",
      "include_colab_link": true
    },
    "kernelspec": {
      "name": "python3",
      "display_name": "Python 3"
    },
    "language_info": {
      "name": "python"
    }
  },
  "cells": [
    {
      "cell_type": "markdown",
      "metadata": {
        "id": "view-in-github",
        "colab_type": "text"
      },
      "source": [
        "<a href=\"https://colab.research.google.com/github/dharanipriyaR24/ml/blob/main/KMEANS.ipynb\" target=\"_parent\"><img src=\"https://colab.research.google.com/assets/colab-badge.svg\" alt=\"Open In Colab\"/></a>"
      ]
    },
    {
      "cell_type": "code",
      "source": [
        "import pandas as pd\n",
        "import numpy as np\n",
        "import seaborn as sns\n",
        "import matplotlib.pyplot as plt\n",
        "from sklearn.datasets import make_blobs"
      ],
      "metadata": {
        "id": "OE4eaw6L8zb5"
      },
      "execution_count": null,
      "outputs": []
    },
    {
      "cell_type": "code",
      "source": [
        "df=make_blobs(n_samples=200,centers=4,n_features=2,cluster_std=1.6,random_state=50)"
      ],
      "metadata": {
        "id": "vi5gL_y88zeR"
      },
      "execution_count": null,
      "outputs": []
    },
    {
      "cell_type": "code",
      "source": [
        "points=df[0]"
      ],
      "metadata": {
        "id": "ewIEQoT_CXJs"
      },
      "execution_count": null,
      "outputs": []
    },
    {
      "cell_type": "code",
      "source": [
        "from sklearn.cluster import KMeans"
      ],
      "metadata": {
        "id": "W8hjymggCbZg"
      },
      "execution_count": null,
      "outputs": []
    },
    {
      "cell_type": "code",
      "source": [
        "kmeans=KMeans(n_clusters=4)\n",
        "kmeans.fit(points)"
      ],
      "metadata": {
        "colab": {
          "base_uri": "https://localhost:8080/"
        },
        "id": "jG3JY13kCpJX",
        "outputId": "e067b0cf-c454-4db7-ad6e-342e9516d13a"
      },
      "execution_count": null,
      "outputs": [
        {
          "output_type": "execute_result",
          "data": {
            "text/plain": [
              "KMeans(n_clusters=4)"
            ]
          },
          "metadata": {},
          "execution_count": 5
        }
      ]
    },
    {
      "cell_type": "code",
      "source": [
        "plt.scatter(df[0][: ,0],df[0][:,1])"
      ],
      "metadata": {
        "colab": {
          "base_uri": "https://localhost:8080/",
          "height": 282
        },
        "id": "4AXiv_WICxUt",
        "outputId": "c6f78579-bd52-4e00-89a0-b4190bbd67a5"
      },
      "execution_count": null,
      "outputs": [
        {
          "output_type": "execute_result",
          "data": {
            "text/plain": [
              "<matplotlib.collections.PathCollection at 0x7fa118f4afd0>"
            ]
          },
          "metadata": {},
          "execution_count": 6
        },
        {
          "output_type": "display_data",
          "data": {
            "text/plain": [
              "<Figure size 432x288 with 1 Axes>"
            ],
            "image/png": "[encoded data removed]"
          },
          "metadata": {
            "needs_background": "light"
          }
        }
      ]
    },
    {
      "cell_type": "code",
      "source": [
        "clusters=kmeans.cluster_centers_"
      ],
      "metadata": {
        "id": "Y5k-e8InCxXj"
      },
      "execution_count": null,
      "outputs": []
    },
    {
      "cell_type": "code",
      "source": [
        "y_km=kmeans.fit_predict(points)"
      ],
      "metadata": {
        "id": "Md69ORIxDNov"
      },
      "execution_count": null,
      "outputs": []
    },
    {
      "cell_type": "code",
      "source": [
        "plt.scatter(points[y_km==0,0],points[y_km==0,1],s=50,color='red')\n",
        "plt.scatter(points[y_km==1,0],points[y_km==1,1],s=50,color='blue')\n",
        "plt.scatter(points[y_km==2,0],points[y_km==2,1],s=50,color='yellow')\n",
        "plt.scatter(points[y_km==3,0],points[y_km==3,1],s=50,color='green')\n",
        "\n",
        "plt.scatter(clusters[0][0],clusters[0][1],marker='*',s=300,color='black')\n",
        "plt.scatter(clusters[1][0],clusters[1][1],marker='*',s=300,color='black')\n",
        "plt.scatter(clusters[2][0],clusters[2][1],marker='*',s=300,color='black')\n",
        "plt.scatter(clusters[3][0],clusters[3][1],marker='*',s=300,color='black')"
      ],
      "metadata": {
        "colab": {
          "base_uri": "https://localhost:8080/",
          "height": 282
        },
        "id": "OEhYbxj4DTR_",
        "outputId": "bcc6a060-ba11-48e2-e8c6-3a6d3e3b07a3"
      },
      "execution_count": null,
      "outputs": [
        {
          "output_type": "execute_result",
          "data": {
            "text/plain": [
              "<matplotlib.collections.PathCollection at 0x7fa1189ea210>"
            ]
          },
          "metadata": {},
          "execution_count": 9
        },
        {
          "output_type": "display_data",
          "data": {
            "text/plain": [
              "<Figure size 432x288 with 1 Axes>"
            ],
            "image/png": "[encoded data removed]"
          },
          "metadata": {
            "needs_background": "light"
          }
        }
      ]
    },
    {
      "cell_type": "code",
      "source": [
        ""
      ],
      "metadata": {
        "id": "NjxrUpgzFP5l"
      },
      "execution_count": null,
      "outputs": []
    }
  ]
}